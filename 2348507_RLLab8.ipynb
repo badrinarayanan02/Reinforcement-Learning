{
 "cells": [
  {
   "cell_type": "code",
   "execution_count": 1,
   "metadata": {
    "colab": {
     "base_uri": "https://localhost:8080/"
    },
    "id": "fvqq0vZhCbyO",
    "outputId": "73a99141-11e1-4e28-d87d-4eb716944745"
   },
   "outputs": [
    {
     "name": "stdout",
     "output_type": "stream",
     "text": [
      "Learned State Values:\n",
      "State 1: 0.06\n",
      "State 2: 0.14\n",
      "State 3: 0.27\n",
      "State 4: 0.44\n",
      "State 5: 0.81\n"
     ]
    }
   ],
   "source": [
    "import numpy as np\n",
    "\n",
    "# Parameters\n",
    "num_states = 5\n",
    "alpha = 0.1  # Learning rate\n",
    "gamma = 0.9  # Discount factor\n",
    "num_episodes = 100  # Number of episodes\n",
    "\n",
    "# Initialize state values\n",
    "V = np.zeros(num_states + 2)  # Add two extra states for boundaries (0 and 6)\n",
    "\n",
    "# Define policy (random action: left or right)\n",
    "def policy():\n",
    "    return np.random.choice([-1, 1])\n",
    "\n",
    "# Simulate one episode\n",
    "def generate_episode():\n",
    "    episode = []\n",
    "    state = 3  # Start in the middle state\n",
    "    while state != 0 and state != 6:  # Terminal states are 0 and 6\n",
    "        action = policy()\n",
    "        next_state = state + action\n",
    "        reward = 1 if next_state == 6 else 0\n",
    "        episode.append((state, reward, next_state))\n",
    "        state = next_state\n",
    "    return episode\n",
    "\n",
    "# TD(0) Algorithm\n",
    "for episode in range(num_episodes):\n",
    "    state = 3  # Start in the middle state\n",
    "    while state != 0 and state != 6:  # Terminal states are 0 and 6\n",
    "        action = policy()\n",
    "        next_state = state + action\n",
    "        reward = 1 if next_state == 6 else 0\n",
    "\n",
    "        # TD(0) update\n",
    "        V[state] += alpha * (reward + gamma * V[next_state] - V[state])\n",
    "\n",
    "        state = next_state\n",
    "\n",
    "# Print the learned state values\n",
    "print(\"Learned State Values:\")\n",
    "for state in range(1, num_states + 1):\n",
    "    print(f\"State {state}: {V[state]:.2f}\")\n"
   ]
  }
 ],
 "metadata": {
  "colab": {
   "provenance": []
  },
  "kernelspec": {
   "display_name": "Python 3",
   "name": "python3"
  },
  "language_info": {
   "name": "python"
  }
 },
 "nbformat": 4,
 "nbformat_minor": 0
}
