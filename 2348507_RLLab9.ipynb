{
 "cells": [
  {
   "cell_type": "code",
   "execution_count": 6,
   "metadata": {},
   "outputs": [],
   "source": [
    "import numpy as np\n",
    "import matplotlib.pyplot as plt"
   ]
  },
  {
   "cell_type": "code",
   "execution_count": 7,
   "metadata": {},
   "outputs": [],
   "source": [
    "class Gridworld:\n",
    "    def __init__(self, grid_size=(4, 4), start_state=(0, 0), terminal_states=[(3, 3)]):\n",
    "        self.grid_size = grid_size\n",
    "        self.state = start_state\n",
    "        self.terminal_states = terminal_states\n",
    "\n",
    "    def step(self, action):\n",
    "        \"\"\"Take an action and return next_state, reward, done.\"\"\"\n",
    "        if self.state in self.terminal_states:\n",
    "            return self.state, 0, True\n",
    "\n",
    "        x, y = self.state\n",
    "        if action == 'up':\n",
    "            x = max(x - 1, 0)\n",
    "        elif action == 'down':\n",
    "            x = min(x + 1, self.grid_size[0] - 1)\n",
    "        elif action == 'left':\n",
    "            y = max(y - 1, 0)\n",
    "        elif action == 'right':\n",
    "            y = min(y + 1, self.grid_size[1] - 1)\n",
    "\n",
    "        self.state = (x, y)\n",
    "        reward = -1  # Reward for each step\n",
    "        done = self.state in self.terminal_states\n",
    "        return self.state, reward, done\n",
    "\n",
    "    def reset(self):\n",
    "        self.state = (0, 0)\n",
    "        return self.state"
   ]
  },
  {
   "cell_type": "code",
   "execution_count": null,
   "metadata": {},
   "outputs": [],
   "source": [
    "def td_learning(env, policy, episodes, alpha, gamma, max_steps=100):\n",
    "    \"\"\"\n",
    "    TD(0) algorithm to estimate the value function.\n",
    "\n",
    "    Args:\n",
    "        env: The environment.\n",
    "        policy: A dictionary mapping states to actions.\n",
    "        episodes: Number of episodes to train.\n",
    "        alpha: Learning rate.\n",
    "        gamma: Discount factor.\n",
    "        max_steps: Maximum steps per episode.\n",
    "\n",
    "    Returns:\n",
    "        value_function: Estimated value function for each state.\n",
    "    \"\"\"\n",
    "    value_function = np.zeros(env.grid_size)\n",
    "\n",
    "    for episode in range(episodes):\n",
    "        state = env.reset()\n",
    "        done = False\n",
    "        steps = 0\n",
    "\n",
    "        while not done and steps < max_steps:\n",
    "            x, y = state\n",
    "            action = policy[state]\n",
    "            next_state, reward, done = env.step(action)\n",
    "\n",
    "            nx, ny = next_state\n",
    "\n",
    "            value_function[x, y] += alpha * (\n",
    "                reward + gamma * value_function[nx, ny] - value_function[x, y]\n",
    "            )\n",
    "\n",
    "            state = next_state\n",
    "            steps += 1\n",
    "\n",
    "        if steps >= max_steps:\n",
    "            print(f\"Episode {episode + 1} reached max steps.\")\n",
    "\n",
    "    return value_function"
   ]
  },
  {
   "cell_type": "code",
   "execution_count": null,
   "metadata": {},
   "outputs": [],
   "source": [
    "grid_size = (4, 4)\n",
    "terminal_states = [(3, 3)]\n",
    "env = Gridworld(grid_size=grid_size, terminal_states=terminal_states)"
   ]
  },
  {
   "cell_type": "code",
   "execution_count": null,
   "metadata": {},
   "outputs": [],
   "source": [
    "def deterministic_policy(state):\n",
    "    x, y = state\n",
    "    if x < grid_size[0] - 1:\n",
    "        return 'down'\n",
    "    elif y < grid_size[1] - 1:\n",
    "        return 'right'\n",
    "    else:\n",
    "        return 'up' \n",
    "\n",
    "policy = {\n",
    "    (x, y): deterministic_policy((x, y))\n",
    "    for x in range(grid_size[0])\n",
    "    for y in range(grid_size[1])\n",
    "}"
   ]
  },
  {
   "cell_type": "code",
   "execution_count": null,
   "metadata": {},
   "outputs": [],
   "source": [
    "episodes = 500\n",
    "alpha = 0.1\n",
    "gamma = 0.9\n",
    "value_function = td_learning(env, policy, episodes, alpha, gamma)"
   ]
  },
  {
   "cell_type": "code",
   "execution_count": null,
   "metadata": {},
   "outputs": [
    {
     "data": {
      "image/png": "[encoded data removed]",
      "text/plain": [
       "<Figure size 600x600 with 2 Axes>"
      ]
     },
     "metadata": {},
     "output_type": "display_data"
    }
   ],
   "source": [
    "plt.figure(figsize=(6, 6))\n",
    "plt.imshow(value_function, cmap='coolwarm', interpolation='none')\n",
    "plt.colorbar(label='Value')\n",
    "plt.title('Value Function Estimated by TD(0)')\n",
    "plt.xticks(range(grid_size[1]))\n",
    "plt.yticks(range(grid_size[0]))\n",
    "plt.gca().invert_yaxis()\n",
    "plt.show()"
   ]
  },
  {
   "cell_type": "code",
   "execution_count": null,
   "metadata": {},
   "outputs": [],
   "source": []
  }
 ],
 "metadata": {
  "kernelspec": {
   "display_name": "Python 3",
   "language": "python",
   "name": "python3"
  },
  "language_info": {
   "codemirror_mode": {
    "name": "ipython",
    "version": 3
   },
   "file_extension": ".py",
   "mimetype": "text/x-python",
   "name": "python",
   "nbconvert_exporter": "python",
   "pygments_lexer": "ipython3",
   "version": "3.11.5"
  }
 },
 "nbformat": 4,
 "nbformat_minor": 2
}
